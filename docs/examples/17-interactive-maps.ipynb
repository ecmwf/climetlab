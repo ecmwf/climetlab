{
 "cells": [
  {
   "cell_type": "code",
   "execution_count": null,
   "metadata": {
    "tags": []
   },
   "outputs": [],
   "source": [
    "!pip install --quiet climetlab[interactive]"
   ]
  },
  {
   "cell_type": "markdown",
   "metadata": {},
   "source": [
    "# Interactive maps"
   ]
  },
  {
   "cell_type": "code",
   "execution_count": 4,
   "metadata": {
    "tags": []
   },
   "outputs": [],
   "source": [
    "import climetlab as cml"
   ]
  },
  {
   "cell_type": "code",
   "execution_count": 5,
   "metadata": {
    "tags": []
   },
   "outputs": [
    {
     "data": {
      "text/html": [
       "<div style=\"width:100%;\"><div style=\"position:relative;width:100%;height:0;padding-bottom:60%;\"><span style=\"color:#565656\">Make this Notebook Trusted to load map: File -> Trust Notebook</span><iframe srcdoc=\"&lt;!DOCTYPE html&gt;\n",
       "&lt;html&gt;\n",
       "&lt;head&gt;\n",
       "    \n",
       "    &lt;meta http-equiv=&quot;content-type&quot; content=&quot;text/html; charset=UTF-8&quot; /&gt;\n",
       "    \n",
       "        &lt;script&gt;\n",
       "            L_NO_TOUCH = false;\n",
       "            L_DISABLE_3D = false;\n",
       "        &lt;/script&gt;\n",
       "    \n",
       "    &lt;style&gt;html, body {width: 100%;height: 100%;margin: 0;padding: 0;}&lt;/style&gt;\n",
       "    &lt;style&gt;#map {position:absolute;top:0;bottom:0;right:0;left:0;}&lt;/style&gt;\n",
       "    &lt;script src=&quot;https://cdn.jsdelivr.net/npm/leaflet@1.9.3/dist/leaflet.js&quot;&gt;&lt;/script&gt;\n",
       "    &lt;script src=&quot;https://code.jquery.com/jquery-1.12.4.min.js&quot;&gt;&lt;/script&gt;\n",
       "    &lt;script src=&quot;https://cdn.jsdelivr.net/npm/bootstrap@5.2.2/dist/js/bootstrap.bundle.min.js&quot;&gt;&lt;/script&gt;\n",
       "    &lt;script src=&quot;https://cdnjs.cloudflare.com/ajax/libs/Leaflet.awesome-markers/2.0.2/leaflet.awesome-markers.js&quot;&gt;&lt;/script&gt;\n",
       "    &lt;link rel=&quot;stylesheet&quot; href=&quot;https://cdn.jsdelivr.net/npm/leaflet@1.9.3/dist/leaflet.css&quot;/&gt;\n",
       "    &lt;link rel=&quot;stylesheet&quot; href=&quot;https://cdn.jsdelivr.net/npm/bootstrap@5.2.2/dist/css/bootstrap.min.css&quot;/&gt;\n",
       "    &lt;link rel=&quot;stylesheet&quot; href=&quot;https://netdna.bootstrapcdn.com/bootstrap/3.0.0/css/bootstrap.min.css&quot;/&gt;\n",
       "    &lt;link rel=&quot;stylesheet&quot; href=&quot;https://cdn.jsdelivr.net/npm/@fortawesome/fontawesome-free@6.2.0/css/all.min.css&quot;/&gt;\n",
       "    &lt;link rel=&quot;stylesheet&quot; href=&quot;https://cdnjs.cloudflare.com/ajax/libs/Leaflet.awesome-markers/2.0.2/leaflet.awesome-markers.css&quot;/&gt;\n",
       "    &lt;link rel=&quot;stylesheet&quot; href=&quot;https://cdn.jsdelivr.net/gh/python-visualization/folium/folium/templates/leaflet.awesome.rotate.min.css&quot;/&gt;\n",
       "    \n",
       "            &lt;meta name=&quot;viewport&quot; content=&quot;width=device-width,\n",
       "                initial-scale=1.0, maximum-scale=1.0, user-scalable=no&quot; /&gt;\n",
       "            &lt;style&gt;\n",
       "                #map_0ea2aa72afd97680b33d10cc7060ef99 {\n",
       "                    position: relative;\n",
       "                    width: 100.0%;\n",
       "                    height: 100.0%;\n",
       "                    left: 0.0%;\n",
       "                    top: 0.0%;\n",
       "                }\n",
       "                .leaflet-container { font-size: 1rem; }\n",
       "            &lt;/style&gt;\n",
       "        \n",
       "    &lt;script src=&quot;https://cdnjs.cloudflare.com/ajax/libs/leaflet.fullscreen/1.4.2/Control.FullScreen.min.js&quot;&gt;&lt;/script&gt;\n",
       "    &lt;link rel=&quot;stylesheet&quot; href=&quot;https://cdnjs.cloudflare.com/ajax/libs/leaflet.fullscreen/1.4.2/Control.FullScreen.min.css&quot;/&gt;\n",
       "    \n",
       "        \n",
       "&lt;/head&gt;\n",
       "&lt;body&gt;\n",
       "    \n",
       "    \n",
       "            &lt;div class=&quot;folium-map&quot; id=&quot;map_0ea2aa72afd97680b33d10cc7060ef99&quot; &gt;&lt;/div&gt;\n",
       "        \n",
       "    \n",
       "        \n",
       "&lt;/body&gt;\n",
       "&lt;script&gt;\n",
       "    \n",
       "    \n",
       "            var map_0ea2aa72afd97680b33d10cc7060ef99 = L.map(\n",
       "                &quot;map_0ea2aa72afd97680b33d10cc7060ef99&quot;,\n",
       "                {\n",
       "                    center: [31.6, -82.35],\n",
       "                    crs: L.CRS.EPSG3857,\n",
       "                    zoom: 4.0435729847494555,\n",
       "                    zoomControl: true,\n",
       "                    preferCanvas: false,\n",
       "                }\n",
       "            );\n",
       "\n",
       "            \n",
       "\n",
       "        \n",
       "    \n",
       "            var tile_layer_feee6c8af5c86c64608bfa5b876222a8 = L.tileLayer(\n",
       "                &quot;https://{s}.tile.openstreetmap.org/{z}/{x}/{y}.png&quot;,\n",
       "                {&quot;attribution&quot;: &quot;Map data \\u0026copy; \\u003ca href=\\&quot;https://www.openstreetmap.org/copyright\\&quot;\\u003eOpenStreetMap\\u003c/a\\u003e contributors&quot;, &quot;detectRetina&quot;: false, &quot;maxNativeZoom&quot;: 18, &quot;maxZoom&quot;: 18, &quot;minZoom&quot;: 0, &quot;noWrap&quot;: false, &quot;opacity&quot;: 1, &quot;subdomains&quot;: &quot;abc&quot;, &quot;tms&quot;: false}\n",
       "            ).addTo(map_0ea2aa72afd97680b33d10cc7060ef99);\n",
       "        \n",
       "    \n",
       "            var svgElement = document.createElementNS(&quot;http://www.w3.org/2000/svg&quot;, &quot;svg&quot;);\n",
       "            svgElement.setAttribute(&#x27;xmlns&#x27;, &quot;http://www.w3.org/2000/svg&quot;);\n",
       "            svgElement.setAttribute(&#x27;viewBox&#x27;, &quot;0 0 6145 6151&quot;);\n",
       "            svgElement.innerHTML = &quot;\\u003crdf:RDF\\u003e\\u003ccc:Work rdf:about=\\&quot;\\&quot;\\u003e\\n\\t\\u003cdc:format\\u003eimage/svg+xml\\u003c/dc:format\\u003e\\n\\t\\u003cdc:title\\u003eMagics plot\\u003c/dc:title\\u003e\\n\\t\\u003cdc:author\\u003emafp on aa6-205.bullx\\u003c/dc:author\\u003e\\n\\t\\u003cdc:date\\u003eWed Apr 26 13:29:31 2023\\u003c/dc:date\\u003e\\n\\t\\u003cdc:language\\u003een-GB\\u003c/dc:language\\u003e\\n\\t\\u003cdc:publisher\\u003e\\u003ccc:Agent\\u003e\\n\\t \\u003cdc:title\\u003eMagics 4.13.0\\u003c/dc:title\\u003e\\n\\t\\u003c/cc:Agent\\u003e\\u003c/dc:publisher\\u003e\\n\\t\\u003cdc:coverage\\u003ePlot of meteorological data\\u003c/dc:coverage\\u003e\\n\\u003c/cc:Work\\u003e\\u003c/rdf:RDF\\u003e\\n\\u003c/metadata\\u003e\\n\\u003cg id=\\&quot;page\\&quot; transform=\\&quot;translate(0,6150.93)\\&quot; vector-effect=\\&quot;non-scaling-stroke\\&quot;\\u003e\\n\\u003cg id=\\&quot;Page0\\&quot; inkscape:label=\\&quot;Page0\\&quot;\\u003e\\n\\u003cg inkscape:groupmode=\\&quot;layer\\&quot; inkscape:label=\\&quot;Coastline\\&quot; id=\\&quot;Coastline\\&quot;\\u003e\\u003ctitle\\u003eCoastline\\u003c/title\\u003e\\n\\u003cg\\u003e\\n\\u003cg id=\\&quot;drawing\\&quot; inkscape:label=\\&quot;drawing\\&quot; transform=\\&quot;translate(3072,-3075.47)\\&quot;\\u003e\\n\\u003c/g\\u003e\\n\\u003c/g\\u003e\\n\\u003c/g\\u003e\\n\\u003cg inkscape:groupmode=\\&quot;layer\\&quot; inkscape:label=\\&quot;no_name\\&quot; id=\\&quot;no_name\\&quot;\\u003e\\u003ctitle\\u003eno_name\\u003c/title\\u003e\\n\\u003cg\\u003e\\n\\u003cg id=\\&quot;drawing\\&quot; inkscape:label=\\&quot;drawing\\&quot; transform=\\&quot;translate(3072,-3075.47)\\&quot;\\u003e\\n\\u003cg stroke-width=\\&quot;0.5px\\&quot; stroke=\\&quot;rgb(254,0,0)\\&quot; fill=\\&quot;none\\&quot;\\u003e\\n\\u003c/g\\u003e\\n\\u003cg stroke=\\&quot;rgb(254,0,0)\\&quot; fill=\\&quot;rgb(254,0,0)\\&quot;\\u003e\\n\\u003ccircle cx=\\&quot;-1282\\&quot; cy=\\&quot;-405\\&quot; r=\\&quot;1.5\\&quot;/\\u003e\\n\\u003ccircle cx=\\&quot;-1292\\&quot; cy=\\&quot;-411\\&quot; r=\\&quot;1.5\\&quot;/\\u003e\\n\\u003ccircle cx=\\&quot;-1301\\&quot; cy=\\&quot;-418\\&quot; r=\\&quot;1.5\\&quot;/\\u003e\\n\\u003ccircle cx=\\&quot;-1306\\&quot; cy=\\&quot;-431\\&quot; r=\\&quot;1.5\\&quot;/\\u003e\\n\\u003ccircle cx=\\&quot;-1313\\&quot; cy=\\&quot;-448\\&quot; r=\\&quot;1.5\\&quot;/\\u003e\\n\\u003ccircle cx=\\&quot;-1326\\&quot; cy=\\&quot;-460\\&quot; r=\\&quot;1.5\\&quot;/\\u003e\\n\\u003ccircle cx=\\&quot;-1338\\&quot; cy=\\&quot;-461\\&quot; r=\\&quot;1.5\\&quot;/\\u003e\\n\\u003ccircle cx=\\&quot;-1349\\&quot; cy=\\&quot;-463\\&quot; r=\\&quot;1.5\\&quot;/\\u003e\\n\\u003ccircle cx=\\&quot;-1359\\&quot; cy=\\&quot;-463\\&quot; r=\\&quot;1.5\\&quot;/\\u003e\\n\\u003ccircle cx=\\&quot;-1367\\&quot; cy=\\&quot;-460\\&quot; r=\\&quot;1.5\\&quot;/\\u003e\\n\\u003ccircle cx=\\&quot;-1371\\&quot; cy=\\&quot;-458\\&quot; r=\\&quot;1.5\\&quot;/\\u003e\\n\\u003ccircle cx=\\&quot;-1388\\&quot; cy=\\&quot;-448\\&quot; r=\\&quot;1.5\\&quot;/\\u003e\\n\\u003ccircle cx=\\&quot;-1400\\&quot; cy=\\&quot;-443\\&quot; r=\\&quot;1.5\\&quot;/\\u003e\\n\\u003ccircle cx=\\&quot;-1410\\&quot; cy=\\&quot;-439\\&quot; r=\\&quot;1.5\\&quot;/\\u003e\\n\\u003ccircle cx=\\&quot;-1422\\&quot; cy=\\&quot;-433\\&quot; r=\\&quot;1.5\\&quot;/\\u003e\\n\\u003ccircle cx=\\&quot;-1434\\&quot; cy=\\&quot;-429\\&quot; r=\\&quot;1.5\\&quot;/\\u003e\\n\\u003ccircle cx=\\&quot;-1446\\&quot; cy=\\&quot;-429\\&quot; r=\\&quot;1.5\\&quot;/\\u003e\\n\\u003ccircle cx=\\&quot;-1456\\&quot; cy=\\&quot;-431\\&quot; r=\\&quot;1.5\\&quot;/\\u003e\\n\\u003ccircle cx=\\&quot;-1466\\&quot; cy=\\&quot;-437\\&quot; r=\\&quot;1.5\\&quot;/\\u003e\\n\\u003ccircle cx=\\&quot;-1480\\&quot; cy=\\&quot;-444\\&quot; r=\\&quot;1.5\\&quot;/\\u003e\\n\\u003ccircle cx=\\&quot;-1497\\&quot; cy=\\&quot;-454\\&quot; r=\\&quot;1.5\\&quot;/\\u003e\\n\\u003ccircle cx=\\&quot;-1512\\&quot; cy=\\&quot;-465\\&quot; r=\\&quot;1.5\\&quot;/\\u003e\\n\\u003ccircle cx=\\&quot;-1523\\&quot; cy=\\&quot;-482\\&quot; r=\\&quot;1.5\\&quot;/\\u003e\\n\\u003ccircle cx=\\&quot;-1530\\&quot; cy=\\&quot;-502\\&quot; r=\\&quot;1.5\\&quot;/\\u003e\\n\\u003ccircle cx=\\&quot;-1530\\&quot; cy=\\&quot;-523\\&quot; r=\\&quot;1.5\\&quot;/\\u003e\\n\\u003ccircle cx=\\&quot;-1530\\&quot; cy=\\&quot;-527\\&quot; r=\\&quot;1.5\\&quot;/\\u003e\\n\\u003ccircle cx=\\&quot;-1530\\&quot; cy=\\&quot;-541\\&quot; r=\\&quot;1.5\\&quot;/\\u003e\\n\\u003ccircle cx=\\&quot;-1530\\&quot; cy=\\&quot;-559\\&quot; r=\\&quot;1.5\\&quot;/\\u003e\\n\\u003ccircle cx=\\&quot;-1521\\&quot; cy=\\&quot;-589\\&quot; r=\\&quot;1.5\\&quot;/\\u003e\\n\\u003ccircle cx=\\&quot;-1512\\&quot; cy=\\&quot;-620\\&quot; r=\\&quot;1.5\\&quot;/\\u003e\\n\\u003ccircle cx=\\&quot;-1502\\&quot; cy=\\&quot;-651\\&quot; r=\\&quot;1.5\\&quot;/\\u003e\\n\\u003ccircle cx=\\&quot;-1485\\&quot; cy=\\&quot;-680\\&quot; r=\\&quot;1.5\\&quot;/\\u003e\\n\\u003ccircle cx=\\&quot;-1456\\&quot; cy=\\&quot;-715\\&quot; r=\\&quot;1.5\\&quot;/\\u003e\\n\\u003ccircle cx=\\&quot;-1415\\&quot; cy=\\&quot;-748\\&quot; r=\\&quot;1.5\\&quot;/\\u003e\\n\\u003c/g\\u003e\\n\\u003cg stroke-width=\\&quot;0.5px\\&quot; stroke=\\&quot;rgb(254,0,0)\\&quot; fill=\\&quot;none\\&quot;\\u003e\\n\\u003cpath d=\\&quot;M-1282.42 -405.601l-10.2457 -5.57565l-8.53808 -7.4539l-5.12285 -13.1l-6.83046 -16.9507l-13.6609 -11.3706l-11.9533 -1.90071l-10.2457 -1.90233l-10.2457 0l-8.53808 3.80304l-3.41523 1.89909l-17.0762 9.47148l-11.9533 5.66402l-10.2457 3.76829l-11.9533 5.64102l-11.9533 3.75316l-11.9533 0l-10.2457 -1.87584l-10.2457 -5.63649l-13.6609 -7.5366l-17.0762 -9.45569l-15.3685 -11.3995l-10.2457 -17.2107l-6.83046 -19.2869l0 -56.9919l8.53808 -30.156l8.53808 -30.6653l10.2457 -31.2138l17.0762 -29.665l29.0295 -34.5803l40.9828 -33.126\\&quot;/\\u003e\\n\\u003c/g\\u003e\\n\\u003c/g\\u003e\\n\\u003c/g\\u003e\\n\\u003c/g\\u003e\\n\\u003cg inkscape:groupmode=\\&quot;layer\\&quot; inkscape:label=\\&quot;Coastline\\&quot; id=\\&quot;Coastline\\&quot;\\u003e\\u003ctitle\\u003eCoastline\\u003c/title\\u003e\\n\\u003cg\\u003e\\n\\u003cg id=\\&quot;drawing\\&quot; inkscape:label=\\&quot;drawing\\&quot; transform=\\&quot;translate(3072,-3075.47)\\&quot;\\u003e\\n\\u003c/g\\u003e\\n\\u003c/g\\u003e\\n\\u003c/g\\u003e\\n\\u003cg id=\\&quot;Clone of page\\&quot; inkscape:label=\\&quot;Clone of page\\&quot;\\u003e\\n\\u003c/g\\u003e\\n\\u003c/g\\u003e\\n\\u003c/g\\u003e\\u003c!--ePage--\\u003e\\n&quot;\n",
       "            var macro_element_2bcf193ea8427b05bab0d1a92d82c213 = L.svgOverlay(\n",
       "                svgElement,\n",
       "                [[90, -180], [-90, 180]],\n",
       "                {&quot;attribution&quot;: &quot;CliMetLab&quot;}\n",
       "            ).addTo(map_0ea2aa72afd97680b33d10cc7060ef99);\n",
       "        \n",
       "    \n",
       "            L.control.fullscreen(\n",
       "                {&quot;forceSeparateButton&quot;: true, &quot;position&quot;: &quot;topleft&quot;, &quot;title&quot;: &quot;Full Screen&quot;, &quot;titleCancel&quot;: &quot;Exit Full Screen&quot;}\n",
       "            ).addTo(map_0ea2aa72afd97680b33d10cc7060ef99);\n",
       "        \n",
       "    \n",
       "        map_0ea2aa72afd97680b33d10cc7060ef99.scrollWheelZoom.disable();\n",
       "        \n",
       "    \n",
       "            map_0ea2aa72afd97680b33d10cc7060ef99.fitBounds(\n",
       "                [[23.1, -75.1], [40.1, -89.6]],\n",
       "                {}\n",
       "            );\n",
       "        \n",
       "&lt;/script&gt;\n",
       "&lt;/html&gt;\" style=\"position:absolute;width:100%;height:100%;left:0;top:0;border:none !important;\" allowfullscreen webkitallowfullscreen mozallowfullscreen></iframe></div></div>"
      ],
      "text/plain": [
       "<IPython.core.display.HTML object>"
      ]
     },
     "execution_count": 5,
     "metadata": {},
     "output_type": "execute_result"
    }
   ],
   "source": [
    "atlantic = cml.load_dataset(\"hurricane-database\", bassin=\"atlantic\")\n",
    "df = atlantic.to_pandas()\n",
    "katrina = df[(df.name == \"katrina\") & (df.year == 2005)]\n",
    "cml.interactive_map(katrina)"
   ]
  },
  {
   "cell_type": "code",
   "execution_count": null,
   "metadata": {},
   "outputs": [],
   "source": []
  }
 ],
 "metadata": {
  "kernelspec": {
   "display_name": "mafp-dev23-05",
   "language": "python",
   "name": "mafp-dev23-05"
  },
  "language_info": {
   "codemirror_mode": {
    "name": "ipython",
    "version": 3
   },
   "file_extension": ".py",
   "mimetype": "text/x-python",
   "name": "python",
   "nbconvert_exporter": "python",
   "pygments_lexer": "ipython3",
   "version": "3.10.10"
  }
 },
 "nbformat": 4,
 "nbformat_minor": 4
}
